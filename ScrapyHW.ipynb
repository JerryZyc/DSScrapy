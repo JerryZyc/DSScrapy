{
 "cells": [
  {
   "cell_type": "code",
   "execution_count": 1,
   "metadata": {},
   "outputs": [],
   "source": [
    "from bs4 import BeautifulSoup\n",
    "from lxml import html\n",
    "from lxml import etree\n",
    "import xml\n",
    "import requests"
   ]
  },
  {
   "cell_type": "code",
   "execution_count": 103,
   "metadata": {},
   "outputs": [
    {
     "name": "stdout",
     "output_type": "stream",
     "text": [
      "{\"payload\": {\"orders\": [{\"creation_date\": \"2016-09-19T11:01:01.000+00:00\", \"visible\": true, \"quantity\": 1, \"user\": {\"ingame_name\": \"Neouni\", \"last_seen\": \"2019-02-25T08:02:37.861+00:00\", \"reputation_bonus\": 0, \"reputation\": 0, \"region\": \"en\", \"status\": \"offline\", \"id\": \"568688d6cbfa8f126f9f85a8\", \"avatar\": null}, \"last_update\": \"2019-02-18T15:43:30.000+00:00\", \"platinum\": 360, \"order_type\": \"sell\", \"region\": \"en\", \"platform\": \"pc\", \"id\": \"57dfc56d0f313917d21ad753\"}, {\"quantity\": 1, \"visible\": true, \"creation_date\": \"2017-02-18T18:03:42.000+00:00\", \"user\": {\"ingame_name\": \"FLOWER_PRIME\", \"last_\n"
     ]
    }
   ],
   "source": [
    "url = \"https://warframe.market/items/volt_prime_set\"\n",
    "r = requests.get(url).text\n",
    "\n",
    "s=etree.HTML(r)\n",
    "\n",
    "trade=s[4].text\n",
    "\n",
    "print(trade[0:600])"
   ]
  },
  {
   "cell_type": "code",
   "execution_count": 3,
   "metadata": {},
   "outputs": [],
   "source": [
    "import json\n",
    "import pandas as pd\n",
    "from pandas.io.json import json_normalize"
   ]
  },
  {
   "cell_type": "code",
   "execution_count": 4,
   "metadata": {},
   "outputs": [
    {
     "name": "stdout",
     "output_type": "stream",
     "text": [
      "{'creation_date': '2017-10-02T02:13:57.000+00:00', 'visible': True, 'quantity': 1, 'user': {'ingame_name': 'Supportif-Arkadas', 'last_seen': '2019-02-24T16:12:13.784+00:00', 'reputation_bonus': 0, 'reputation': 7, 'region': 'en', 'avatar': 'user/avatar/590b23fa0f31393d6cbcda45.png?6f3923552bf4794778c50c10520d8bb2', 'status': 'offline', 'id': '590b23fa0f31393d6cbcda45'}, 'last_update': '2018-11-16T09:29:20.000+00:00', 'platinum': 400, 'order_type': 'sell', 'region': 'en', 'platform': 'pc', 'id': '59d1a0e50f313922c654cf6b'}\n"
     ]
    }
   ],
   "source": [
    "data=json.loads(trade)\n",
    "data1=data['payload']['orders']\n",
    "print(data1[10])"
   ]
  },
  {
   "cell_type": "code",
   "execution_count": 5,
   "metadata": {},
   "outputs": [
    {
     "name": "stdout",
     "output_type": "stream",
     "text": [
      "2018-02-20\n"
     ]
    }
   ],
   "source": [
    "print(data1[30]['creation_date'][0:10])"
   ]
  },
  {
   "cell_type": "code",
   "execution_count": 27,
   "metadata": {},
   "outputs": [
    {
     "name": "stdout",
     "output_type": "stream",
     "text": [
      "Black-Kryptonite\n"
     ]
    }
   ],
   "source": [
    "print(data1[30]['user']['ingame_name'])"
   ]
  },
  {
   "cell_type": "code",
   "execution_count": 18,
   "metadata": {},
   "outputs": [],
   "source": [
    "import matplotlib\n",
    "matplotlib.use('Agg')\n",
    "from datascience import Table\n",
    "%matplotlib inline\n",
    "import matplotlib.pyplot as plt\n",
    "import numpy as np\n",
    "plt.style.use('fivethirtyeight')"
   ]
  },
  {
   "cell_type": "code",
   "execution_count": 64,
   "metadata": {},
   "outputs": [],
   "source": [
    "name=np.array([])\n",
    "reputation=np.array([])\n",
    "platinum=np.array([])\n",
    "order_type=np.array([])\n",
    "creat_time=np.array([])\n",
    "region=np.array([])\n",
    "platform=np.array([])\n",
    "status=np.array([])"
   ]
  },
  {
   "cell_type": "code",
   "execution_count": 102,
   "metadata": {
    "scrolled": true
   },
   "outputs": [
    {
     "name": "stdout",
     "output_type": "stream",
     "text": [
      "['Neouni' 'FLOWER_PRIME' 'kanoOm' 'Locky3d' 'DuraHaaa' 'mateuzin280'\n",
      " '-CNY-CzechuPL' 'Blacksshadow' '-MaxSKILL-' 'MarioZzQC'\n",
      " 'Supportif-Arkadas' 'aloeblacc' 'Alefx69' 'xNoRealLife' 'Uniforce'\n",
      " '--Q--DucatMaster' 'JohnVane' '--RV--Sloth' 'flying_spaghetti_monster'\n",
      " '-BONUS-']\n"
     ]
    }
   ],
   "source": [
    "for i in range (0,400):\n",
    "    name=np.append(name,data1[i]['user']['ingame_name'])\n",
    "    reputation=np.append(reputation,data1[i]['user']['reputation'])\n",
    "    platinum=np.append(platinum,data1[i]['platinum'])\n",
    "    order_type=np.append(order_type,data1[i]['order_type'])\n",
    "    creat_time=np.append(creat_time,data1[i]['creation_date'][0:10])\n",
    "    region=np.append(region,data1[i]['region'])\n",
    "    platform=np.append(platform,data1[i]['platform'])\n",
    "    status=np.append(status,data1[i]['user']['status'])\n",
    "print(name[0:20])"
   ]
  },
  {
   "cell_type": "code",
   "execution_count": 84,
   "metadata": {},
   "outputs": [
    {
     "data": {
      "text/html": [
       "<table border=\"1\" class=\"dataframe\">\n",
       "    <thead>\n",
       "        <tr>\n",
       "            <th>gameID</th> <th>status</th> <th>order_type</th> <th>platinum</th> <th>region</th> <th>reputation</th> <th>creat_time</th>\n",
       "        </tr>\n",
       "    </thead>\n",
       "    <tbody>\n",
       "        <tr>\n",
       "            <td>Neouni       </td> <td>offline</td> <td>sell      </td> <td>360     </td> <td>en    </td> <td>0         </td> <td>2016-09-19</td>\n",
       "        </tr>\n",
       "        <tr>\n",
       "            <td>FLOWER_PRIME </td> <td>offline</td> <td>buy       </td> <td>280     </td> <td>en    </td> <td>58        </td> <td>2017-02-18</td>\n",
       "        </tr>\n",
       "        <tr>\n",
       "            <td>kanoOm       </td> <td>offline</td> <td>sell      </td> <td>349     </td> <td>en    </td> <td>107       </td> <td>2017-02-22</td>\n",
       "        </tr>\n",
       "        <tr>\n",
       "            <td>Locky3d      </td> <td>offline</td> <td>sell      </td> <td>400     </td> <td>en    </td> <td>1         </td> <td>2017-04-14</td>\n",
       "        </tr>\n",
       "        <tr>\n",
       "            <td>DuraHaaa     </td> <td>offline</td> <td>sell      </td> <td>350     </td> <td>en    </td> <td>4         </td> <td>2017-05-18</td>\n",
       "        </tr>\n",
       "        <tr>\n",
       "            <td>mateuzin280  </td> <td>offline</td> <td>sell      </td> <td>400     </td> <td>en    </td> <td>0         </td> <td>2017-05-26</td>\n",
       "        </tr>\n",
       "        <tr>\n",
       "            <td>-CNY-CzechuPL</td> <td>offline</td> <td>sell      </td> <td>340     </td> <td>en    </td> <td>0         </td> <td>2017-06-17</td>\n",
       "        </tr>\n",
       "        <tr>\n",
       "            <td>Blacksshadow </td> <td>offline</td> <td>sell      </td> <td>399     </td> <td>en    </td> <td>53        </td> <td>2017-08-16</td>\n",
       "        </tr>\n",
       "        <tr>\n",
       "            <td>-MaxSKILL-   </td> <td>offline</td> <td>sell      </td> <td>350     </td> <td>en    </td> <td>15        </td> <td>2017-08-20</td>\n",
       "        </tr>\n",
       "        <tr>\n",
       "            <td>MarioZzQC    </td> <td>offline</td> <td>sell      </td> <td>400     </td> <td>en    </td> <td>32        </td> <td>2017-09-30</td>\n",
       "        </tr>\n",
       "    </tbody>\n",
       "</table>\n",
       "<p>... (390 rows omitted)</p>"
      ],
      "text/plain": [
       "gameID        | status  | order_type | platinum | region | reputation | creat_time\n",
       "Neouni        | offline | sell       | 360      | en     | 0          | 2016-09-19\n",
       "FLOWER_PRIME  | offline | buy        | 280      | en     | 58         | 2017-02-18\n",
       "kanoOm        | offline | sell       | 349      | en     | 107        | 2017-02-22\n",
       "Locky3d       | offline | sell       | 400      | en     | 1          | 2017-04-14\n",
       "DuraHaaa      | offline | sell       | 350      | en     | 4          | 2017-05-18\n",
       "mateuzin280   | offline | sell       | 400      | en     | 0          | 2017-05-26\n",
       "-CNY-CzechuPL | offline | sell       | 340      | en     | 0          | 2017-06-17\n",
       "Blacksshadow  | offline | sell       | 399      | en     | 53         | 2017-08-16\n",
       "-MaxSKILL-    | offline | sell       | 350      | en     | 15         | 2017-08-20\n",
       "MarioZzQC     | offline | sell       | 400      | en     | 32         | 2017-09-30\n",
       "... (390 rows omitted)"
      ]
     },
     "execution_count": 84,
     "metadata": {},
     "output_type": "execute_result"
    }
   ],
   "source": [
    "trading=Table().with_columns('gameID',name,'status',status,'order_type',order_type,'platinum',platinum,'region',region,'reputation',reputation,'creat_time',creat_time)\n",
    "trading"
   ]
  },
  {
   "cell_type": "code",
   "execution_count": 85,
   "metadata": {},
   "outputs": [
    {
     "data": {
      "text/html": [
       "<table border=\"1\" class=\"dataframe\">\n",
       "    <thead>\n",
       "        <tr>\n",
       "            <th>gameID</th> <th>status</th> <th>order_type</th> <th>platinum</th> <th>region</th> <th>reputation</th> <th>creat_time</th>\n",
       "        </tr>\n",
       "    </thead>\n",
       "    <tbody>\n",
       "        <tr>\n",
       "            <td>Sid0y      </td> <td>offline</td> <td>sell      </td> <td>300     </td> <td>ru    </td> <td>0         </td> <td>2018-10-05</td>\n",
       "        </tr>\n",
       "        <tr>\n",
       "            <td>MercerRed  </td> <td>offline</td> <td>sell      </td> <td>300     </td> <td>en    </td> <td>5         </td> <td>2019-01-23</td>\n",
       "        </tr>\n",
       "        <tr>\n",
       "            <td>Alex-Lyon  </td> <td>offline</td> <td>sell      </td> <td>300     </td> <td>ru    </td> <td>0         </td> <td>2019-02-09</td>\n",
       "        </tr>\n",
       "        <tr>\n",
       "            <td>NeuroJFORCE</td> <td>offline</td> <td>sell      </td> <td>300     </td> <td>en    </td> <td>0         </td> <td>2019-02-10</td>\n",
       "        </tr>\n",
       "        <tr>\n",
       "            <td>Killstiel  </td> <td>offline</td> <td>sell      </td> <td>310     </td> <td>en    </td> <td>0         </td> <td>2019-02-15</td>\n",
       "        </tr>\n",
       "        <tr>\n",
       "            <td>V3noMic    </td> <td>offline</td> <td>sell      </td> <td>315     </td> <td>en    </td> <td>4         </td> <td>2019-01-11</td>\n",
       "        </tr>\n",
       "        <tr>\n",
       "            <td>-Welewan-CZ</td> <td>offline</td> <td>sell      </td> <td>320     </td> <td>en    </td> <td>2         </td> <td>2018-06-11</td>\n",
       "        </tr>\n",
       "        <tr>\n",
       "            <td>-MS_Makc-  </td> <td>offline</td> <td>sell      </td> <td>320     </td> <td>ru    </td> <td>0         </td> <td>2019-02-07</td>\n",
       "        </tr>\n",
       "        <tr>\n",
       "            <td>Schtil     </td> <td>offline</td> <td>sell      </td> <td>320     </td> <td>en    </td> <td>9         </td> <td>2019-02-08</td>\n",
       "        </tr>\n",
       "        <tr>\n",
       "            <td>Sano32     </td> <td>offline</td> <td>sell      </td> <td>324     </td> <td>en    </td> <td>2         </td> <td>2019-02-13</td>\n",
       "        </tr>\n",
       "    </tbody>\n",
       "</table>\n",
       "<p>... (265 rows omitted)</p>"
      ],
      "text/plain": [
       "gameID      | status  | order_type | platinum | region | reputation | creat_time\n",
       "Sid0y       | offline | sell       | 300      | ru     | 0          | 2018-10-05\n",
       "MercerRed   | offline | sell       | 300      | en     | 5          | 2019-01-23\n",
       "Alex-Lyon   | offline | sell       | 300      | ru     | 0          | 2019-02-09\n",
       "NeuroJFORCE | offline | sell       | 300      | en     | 0          | 2019-02-10\n",
       "Killstiel   | offline | sell       | 310      | en     | 0          | 2019-02-15\n",
       "V3noMic     | offline | sell       | 315      | en     | 4          | 2019-01-11\n",
       "-Welewan-CZ | offline | sell       | 320      | en     | 2          | 2018-06-11\n",
       "-MS_Makc-   | offline | sell       | 320      | ru     | 0          | 2019-02-07\n",
       "Schtil      | offline | sell       | 320      | en     | 9          | 2019-02-08\n",
       "Sano32      | offline | sell       | 324      | en     | 2          | 2019-02-13\n",
       "... (265 rows omitted)"
      ]
     },
     "execution_count": 85,
     "metadata": {},
     "output_type": "execute_result"
    }
   ],
   "source": [
    "trading_sell=trading.where(2,'sell').sort(3)\n",
    "trading_sell"
   ]
  },
  {
   "cell_type": "code",
   "execution_count": 86,
   "metadata": {
    "scrolled": true
   },
   "outputs": [
    {
     "data": {
      "text/html": [
       "<table border=\"1\" class=\"dataframe\">\n",
       "    <thead>\n",
       "        <tr>\n",
       "            <th>gameID</th> <th>status</th> <th>order_type</th> <th>platinum</th> <th>region</th> <th>reputation</th> <th>creat_time</th>\n",
       "        </tr>\n",
       "    </thead>\n",
       "    <tbody>\n",
       "        <tr>\n",
       "            <td>-DragonSouL-</td> <td>online</td> <td>sell      </td> <td>330     </td> <td>en    </td> <td>2         </td> <td>2019-02-09</td>\n",
       "        </tr>\n",
       "        <tr>\n",
       "            <td>Cloud       </td> <td>online</td> <td>sell      </td> <td>350     </td> <td>en    </td> <td>3         </td> <td>2018-11-13</td>\n",
       "        </tr>\n",
       "        <tr>\n",
       "            <td>Redgard     </td> <td>online</td> <td>sell      </td> <td>400     </td> <td>en    </td> <td>18        </td> <td>2017-12-30</td>\n",
       "        </tr>\n",
       "        <tr>\n",
       "            <td>Alefx69     </td> <td>online</td> <td>sell      </td> <td>420     </td> <td>en    </td> <td>11        </td> <td>2017-10-24</td>\n",
       "        </tr>\n",
       "    </tbody>\n",
       "</table>"
      ],
      "text/plain": [
       "gameID       | status | order_type | platinum | region | reputation | creat_time\n",
       "-DragonSouL- | online | sell       | 330      | en     | 2          | 2019-02-09\n",
       "Cloud        | online | sell       | 350      | en     | 3          | 2018-11-13\n",
       "Redgard      | online | sell       | 400      | en     | 18         | 2017-12-30\n",
       "Alefx69      | online | sell       | 420      | en     | 11         | 2017-10-24"
      ]
     },
     "execution_count": 86,
     "metadata": {},
     "output_type": "execute_result"
    }
   ],
   "source": [
    "trading_sell_online=trading.where(2,'sell').where(1,'online').sort(3)\n",
    "trading_sell_online"
   ]
  },
  {
   "cell_type": "code",
   "execution_count": 91,
   "metadata": {},
   "outputs": [
    {
     "data": {
      "text/html": [
       "<table border=\"1\" class=\"dataframe\">\n",
       "    <thead>\n",
       "        <tr>\n",
       "            <th>gameID</th> <th>status</th> <th>order_type</th> <th>platinum</th> <th>region</th> <th>reputation</th> <th>creat_time</th>\n",
       "        </tr>\n",
       "    </thead>\n",
       "    <tbody>\n",
       "        <tr>\n",
       "            <td>Dexir108     </td> <td>offline</td> <td>buy       </td> <td>320     </td> <td>en    </td> <td>0         </td> <td>2019-02-21</td>\n",
       "        </tr>\n",
       "        <tr>\n",
       "            <td>SalvationM   </td> <td>offline</td> <td>buy       </td> <td>310     </td> <td>en    </td> <td>3         </td> <td>2019-02-06</td>\n",
       "        </tr>\n",
       "        <tr>\n",
       "            <td>happy-frame  </td> <td>offline</td> <td>buy       </td> <td>310     </td> <td>en    </td> <td>6         </td> <td>2018-10-28</td>\n",
       "        </tr>\n",
       "        <tr>\n",
       "            <td>kife1212     </td> <td>offline</td> <td>buy       </td> <td>305     </td> <td>en    </td> <td>6         </td> <td>2018-11-24</td>\n",
       "        </tr>\n",
       "        <tr>\n",
       "            <td>astarmf      </td> <td>offline</td> <td>buy       </td> <td>303     </td> <td>en    </td> <td>1         </td> <td>2019-01-28</td>\n",
       "        </tr>\n",
       "        <tr>\n",
       "            <td>hero.xu      </td> <td>offline</td> <td>buy       </td> <td>301     </td> <td>en    </td> <td>12        </td> <td>2018-06-03</td>\n",
       "        </tr>\n",
       "        <tr>\n",
       "            <td>CTOSL        </td> <td>offline</td> <td>buy       </td> <td>300     </td> <td>en    </td> <td>1         </td> <td>2019-02-22</td>\n",
       "        </tr>\n",
       "        <tr>\n",
       "            <td>hrgjjgcgfxxgt</td> <td>offline</td> <td>buy       </td> <td>300     </td> <td>en    </td> <td>3         </td> <td>2019-02-22</td>\n",
       "        </tr>\n",
       "        <tr>\n",
       "            <td>jonlys       </td> <td>offline</td> <td>buy       </td> <td>300     </td> <td>zh    </td> <td>0         </td> <td>2019-02-21</td>\n",
       "        </tr>\n",
       "        <tr>\n",
       "            <td>rightguo     </td> <td>offline</td> <td>buy       </td> <td>300     </td> <td>en    </td> <td>2         </td> <td>2019-02-20</td>\n",
       "        </tr>\n",
       "    </tbody>\n",
       "</table>\n",
       "<p>... (115 rows omitted)</p>"
      ],
      "text/plain": [
       "gameID        | status  | order_type | platinum | region | reputation | creat_time\n",
       "Dexir108      | offline | buy        | 320      | en     | 0          | 2019-02-21\n",
       "SalvationM    | offline | buy        | 310      | en     | 3          | 2019-02-06\n",
       "happy-frame   | offline | buy        | 310      | en     | 6          | 2018-10-28\n",
       "kife1212      | offline | buy        | 305      | en     | 6          | 2018-11-24\n",
       "astarmf       | offline | buy        | 303      | en     | 1          | 2019-01-28\n",
       "hero.xu       | offline | buy        | 301      | en     | 12         | 2018-06-03\n",
       "CTOSL         | offline | buy        | 300      | en     | 1          | 2019-02-22\n",
       "hrgjjgcgfxxgt | offline | buy        | 300      | en     | 3          | 2019-02-22\n",
       "jonlys        | offline | buy        | 300      | zh     | 0          | 2019-02-21\n",
       "rightguo      | offline | buy        | 300      | en     | 2          | 2019-02-20\n",
       "... (115 rows omitted)"
      ]
     },
     "execution_count": 91,
     "metadata": {},
     "output_type": "execute_result"
    }
   ],
   "source": [
    "trading_buy=trading.where(2,'buy').sort(3,descending=True)\n",
    "trading_buy"
   ]
  },
  {
   "cell_type": "code",
   "execution_count": 88,
   "metadata": {},
   "outputs": [
    {
     "data": {
      "image/png": "[encoded data removed]",
      "text/plain": [
       "<Figure size 432x288 with 1 Axes>"
      ]
     },
     "metadata": {},
     "output_type": "display_data"
    }
   ],
   "source": [
    "trading_sell.hist(3)"
   ]
  },
  {
   "cell_type": "code",
   "execution_count": 89,
   "metadata": {},
   "outputs": [
    {
     "data": {
      "image/png": "[encoded data removed]",
      "text/plain": [
       "<Figure size 432x288 with 1 Axes>"
      ]
     },
     "metadata": {},
     "output_type": "display_data"
    }
   ],
   "source": [
    "trading_buy.hist(3)"
   ]
  },
  {
   "cell_type": "code",
   "execution_count": 96,
   "metadata": {},
   "outputs": [],
   "source": [
    "trading.to_csv('Volt Prime.csv')"
   ]
  }
 ],
 "metadata": {
  "kernelspec": {
   "display_name": "Python 3",
   "language": "python",
   "name": "python3"
  },
  "language_info": {
   "codemirror_mode": {
    "name": "ipython",
    "version": 3
   },
   "file_extension": ".py",
   "mimetype": "text/x-python",
   "name": "python",
   "nbconvert_exporter": "python",
   "pygments_lexer": "ipython3",
   "version": "3.6.5"
  }
 },
 "nbformat": 4,
 "nbformat_minor": 2
}
